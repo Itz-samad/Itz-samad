{
 "cells": [
  {
   "cell_type": "code",
   "execution_count": 25,
   "id": "601b75a8",
   "metadata": {
    "scrolled": true
   },
   "outputs": [
    {
     "name": "stdout",
     "output_type": "stream",
     "text": [
      "Enter the value of X0: 9\n",
      "Enter the value of Y0: 18\n",
      "Enter the value of X1: 14\n",
      "Enter the value of Y1: 22\n",
      "PK | P_K1 | X_K1 | Y_K1\n",
      "________________________\n",
      "3  |  1  |  10  |  19\n",
      "________________________\n",
      "PK | P_K1 | X_K1 | Y_K1\n",
      "________________________\n",
      "1  |  -1  |  11  |  20\n",
      "________________________\n",
      "PK | P_K1 | X_K1 | Y_K1\n",
      "________________________\n",
      "-1  |  7  |  12  |  20\n",
      "________________________\n",
      "PK | P_K1 | X_K1 | Y_K1\n",
      "________________________\n",
      "7  |  5  |  13  |  21\n",
      "________________________\n",
      "PK | P_K1 | X_K1 | Y_K1\n",
      "________________________\n",
      "5  |  3  |  14  |  22\n",
      "________________________\n"
     ]
    },
    {
     "data": {
      "image/png": "[encoded data removed]",
      "text/plain": [
       "<Figure size 432x288 with 1 Axes>"
      ]
     },
     "metadata": {
      "needs_background": "light"
     },
     "output_type": "display_data"
    }
   ],
   "source": [
    "import matplotlib.pyplot as plt\n",
    "a = int(input('Enter the value of X0: '))\n",
    "b = int(input('Enter the value of Y0: '))\n",
    "c = int(input('Enter the value of X1: '))\n",
    "d = int(input('Enter the value of Y1: '))\n",
    "x_ax = []\n",
    "y_ax = []\n",
    "def bren_all(x0, y0, x1, y1):\n",
    "    dx = x1 - x0\n",
    "    dy = y1 - y0\n",
    "    dy_2 = 2 * dy \n",
    "    p_k = (2 * dy) - dx\n",
    "    init_x = x0\n",
    "    init_y = y0\n",
    "    x_k = 0\n",
    "    y_k = 0\n",
    "    while x_k != x1 and y_k != y1:\n",
    "        if p_k < 0:\n",
    "            P_K1 = p_k + dy_2\n",
    "            x_k = init_x + 1\n",
    "            y_k = y_k\n",
    "            x_ax.append(x_k)\n",
    "            y_ax.append(y_k)\n",
    "            \n",
    "        elif p_k > 0:\n",
    "            P_K1 = p_k + ((2 * dy) - (2 * dx))\n",
    "            x_k = init_x + 1\n",
    "            y_k = init_y + 1\n",
    "            x_ax.append(x_k)\n",
    "            y_ax.append(y_k)\n",
    "            \n",
    "           \n",
    "        init_x = x_k\n",
    "        init_y = y_k\n",
    "        print('PK | P_K1 | X_K1 | Y_K1')\n",
    "        print('________________________')\n",
    "        print('{}  |  {}  |  {}  |  {}'.format(p_k,P_K1,x_k, y_k,))\n",
    "        print('________________________')\n",
    "        p_k = P_K1\n",
    "    \n",
    "    plt.plot(x_ax, y_ax)\n",
    "    plt.xlabel(\"x-axis\")\n",
    "    plt.ylabel(\"y-axis\")\n",
    "    plt.title(\"Graph of x and y\")\n",
    "\n",
    "    \n",
    "        \n",
    "bren_all(a, b, c, d)\n",
    "        "
   ]
  }
 ],
 "metadata": {
  "kernelspec": {
   "display_name": "Python 3 (ipykernel)",
   "language": "python",
   "name": "python3"
  },
  "language_info": {
   "codemirror_mode": {
    "name": "ipython",
    "version": 3
   },
   "file_extension": ".py",
   "mimetype": "text/x-python",
   "name": "python",
   "nbconvert_exporter": "python",
   "pygments_lexer": "ipython3",
   "version": "3.8.5"
  }
 },
 "nbformat": 4,
 "nbformat_minor": 5
}
